{
  "cells": [
    {
      "cell_type": "markdown",
      "metadata": {
        "id": "-8bYOEC8HOQ4"
      },
      "source": [
        "# Exercise 5\n",
        "\n",
        "Please follow the instructions in each number."
      ]
    },
    {
      "cell_type": "markdown",
      "metadata": {
        "id": "FEPXLUAPHOQ6"
      },
      "source": [
        "### Maximum Subarray\n",
        "Given an array of integers nums, find the subarray with the largest sum and return the sum.\n",
        "\n",
        "A subarray is a contiguous non-empty sequence of elements within an array.\n",
        "\n",
        "\n",
        "\n",
        "Example 1:\n",
        "\n",
        "Input: nums = [2,-3,4,-2,2,1,-1,4]\n",
        "\n",
        "Output: 8\n",
        "\n",
        "Explanation: The subarray [4,-2,2,1,-1,4] has the largest sum 8."
      ]
    },
    {
      "cell_type": "markdown",
      "metadata": {
        "id": "D4a-4yS4HOQ7"
      },
      "source": [
        "## Tasks"
      ]
    },
    {
      "cell_type": "markdown",
      "metadata": {
        "id": "v8mlE6kYHOQ7"
      },
      "source": [
        "1. Put your student number in a list and manually compute the maximum subarray in your student number (`10 points`)"
      ]
    },
    {
      "cell_type": "code",
      "execution_count": 11,
      "metadata": {
        "vscode": {
          "languageId": "plaintext"
        },
        "id": "YJMIVpuTHOQ8",
        "colab": {
          "base_uri": "https://localhost:8080/"
        },
        "outputId": "e1a70cd7-22cf-4747-fafc-b2cc24059d32"
      },
      "outputs": [
        {
          "output_type": "stream",
          "name": "stdout",
          "text": [
            "Input: [2, 0, 2, 2, 1, 0, 8, 0, 1, 7]\n",
            "Output: 23\n",
            "Explanation: The subarray [2, 0, 2, 2, 1, 0, 8, 0, 1, 7] has the largest sum 23.\n"
          ]
        }
      ],
      "source": [
        "def max_subarray_sum(nums):\n",
        "    max_current = max_global = nums[0]\n",
        "    start = end = s = 0\n",
        "\n",
        "    for i in range(1, len(nums)):\n",
        "        if nums[i] > max_current + nums[i]:\n",
        "            max_current = nums[i]\n",
        "            s = i\n",
        "        else:\n",
        "            max_current += nums[i]\n",
        "\n",
        "        if max_current > max_global:\n",
        "            max_global = max_current\n",
        "            start = s\n",
        "            end = i\n",
        "\n",
        "    return max_global, start, end\n",
        "\n",
        "student_number = [2,0,2,2,1,0,8,0,1,7]\n",
        "\n",
        "max_sum, start_idx, end_idx = max_subarray_sum(student_number)\n",
        "\n",
        "max_subarray = student_number[start_idx:end_idx + 1]\n",
        "\n",
        "print(f\"Input: {student_number}\")\n",
        "print(f\"Output: {max_sum}\")\n",
        "print(f\"Explanation: The subarray {max_subarray} has the largest sum {max_sum}.\")"
      ]
    },
    {
      "cell_type": "markdown",
      "metadata": {
        "id": "nchQgI2KHOQ8"
      },
      "source": [
        "2. Write a program using a brute-force approach to get the maximum-subarray of your student number (`40 points`)"
      ]
    },
    {
      "cell_type": "code",
      "execution_count": 12,
      "metadata": {
        "vscode": {
          "languageId": "plaintext"
        },
        "id": "b9P6oe11HOQ9",
        "colab": {
          "base_uri": "https://localhost:8080/"
        },
        "outputId": "7405d20b-20d6-4421-f793-01cce76fd437"
      },
      "outputs": [
        {
          "output_type": "stream",
          "name": "stdout",
          "text": [
            "Input: [2, 0, 2, 2, 1, 0, 8, 0, 1, 7]\n",
            "Output: 23\n",
            "Explanation: The subarray [2, 0, 2, 2, 1, 0, 8, 0, 1, 7] has the largest sum 23.\n"
          ]
        }
      ],
      "source": [
        "def brute_force_max_subarray(nums):\n",
        "    max_sum = float('-inf')\n",
        "    start_idx = end_idx = 0\n",
        "\n",
        "    for i in range(len(nums)):\n",
        "        for j in range(i, len(nums)):\n",
        "            current_sum = sum(nums[i:j + 1])\n",
        "            if current_sum > max_sum:\n",
        "                max_sum = current_sum\n",
        "                start_idx = i\n",
        "                end_idx = j\n",
        "\n",
        "    return max_sum, start_idx, end_idx\n",
        "\n",
        "student_number = [2,0,2,2,1,0,8,0,1,7]\n",
        "max_sum, start_idx, end_idx = brute_force_max_subarray(student_number)\n",
        "\n",
        "max_subarray = student_number[start_idx:end_idx + 1]\n",
        "\n",
        "print(f\"Input: {student_number}\")\n",
        "print(f\"Output: {max_sum}\")\n",
        "print(f\"Explanation: The subarray {max_subarray} has the largest sum {max_sum}.\")"
      ]
    },
    {
      "cell_type": "markdown",
      "metadata": {
        "id": "NkqAxIx_HOQ9"
      },
      "source": [
        "3. Write a program using a dynamic programming to get the maximum-subarray of your student number (`50 points`)"
      ]
    },
    {
      "cell_type": "code",
      "execution_count": 13,
      "metadata": {
        "vscode": {
          "languageId": "plaintext"
        },
        "id": "BFBp2ARLHOQ9",
        "colab": {
          "base_uri": "https://localhost:8080/"
        },
        "outputId": "8106a521-037c-49b0-a207-812724621537"
      },
      "outputs": [
        {
          "output_type": "stream",
          "name": "stdout",
          "text": [
            "Input: nums = [2, 0, 2, 2, 1, 0, 8, 0, 1, 7]\n",
            "Output: 23\n",
            "Explanation: The subarray [2, 0, 2, 2, 1, 0, 8, 0, 1, 7] has the largest sum 23.\n"
          ]
        }
      ],
      "source": [
        "def dynamic_programming_max_subarray(nums):\n",
        "    n = len(nums)\n",
        "    if n == 0:\n",
        "        return 0\n",
        "\n",
        "    dp = [0] * n\n",
        "    dp[0] = nums[0]\n",
        "    max_sum = dp[0]\n",
        "    start = end = s = 0\n",
        "\n",
        "    for i in range(1, n):\n",
        "        if nums[i] > dp[i-1] + nums[i]:\n",
        "            dp[i] = nums[i]\n",
        "            s = i\n",
        "        else:\n",
        "            dp[i] = dp[i-1] + nums[i]\n",
        "\n",
        "        if dp[i] > max_sum:\n",
        "            max_sum = dp[i]\n",
        "            start = s\n",
        "            end = i\n",
        "\n",
        "    return max_sum, start, end\n",
        "\n",
        "student_number = [2,0,2,2,1,0,8,0,1,7]\n",
        "max_sum, start_idx, end_idx = dynamic_programming_max_subarray(student_number)\n",
        "max_subarray = student_number[start_idx:end_idx + 1]\n",
        "\n",
        "print(f\"Input: nums = {student_number}\")\n",
        "print(f\"Output: {max_sum}\")\n",
        "print(f\"Explanation: The subarray {max_subarray} has the largest sum {max_sum}.\")"
      ]
    }
  ],
  "metadata": {
    "colab": {
      "provenance": []
    },
    "kernelspec": {
      "display_name": "base",
      "language": "python",
      "name": "python3"
    },
    "language_info": {
      "codemirror_mode": {
        "name": "ipython",
        "version": 3
      },
      "file_extension": ".py",
      "mimetype": "text/x-python",
      "name": "python",
      "nbconvert_exporter": "python",
      "pygments_lexer": "ipython3",
      "version": "3.9.6"
    }
  },
  "nbformat": 4,
  "nbformat_minor": 0
}