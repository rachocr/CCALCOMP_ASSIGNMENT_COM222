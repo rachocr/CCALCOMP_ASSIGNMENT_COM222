{
  "cells": [
    {
      "cell_type": "markdown",
      "metadata": {
        "id": "3-prKGbfwFRd"
      },
      "source": [
        "# Exercise 1"
      ]
    },
    {
      "cell_type": "markdown",
      "metadata": {
        "id": "kBW-_z9HwFRf"
      },
      "source": [
        "Please follow the instructions in each number. Do not remove or modify the pre-defined code!"
      ]
    },
    {
      "cell_type": "code",
      "execution_count": 104,
      "metadata": {
        "id": "ABAdD_ngwFRg"
      },
      "outputs": [],
      "source": [
        "# Add a vertex to the set of vertices and the graph\n",
        "def add_vertex(v):\n",
        "  global graph\n",
        "  global vertices_no\n",
        "  global vertices\n",
        "  if v in vertices:\n",
        "    print(\"Vertex \", v, \" already exists\")\n",
        "  else:\n",
        "    vertices_no = vertices_no + 1\n",
        "    vertices.append(v)\n",
        "    if vertices_no > 1:\n",
        "        for vertex in graph:\n",
        "            vertex.append(0)\n",
        "    temp = []\n",
        "    for i in range(vertices_no):\n",
        "        temp.append(0)\n",
        "    graph.append(temp)\n",
        "\n",
        "# Add an edge between vertex v1 and v2 with edge weight e\n",
        "def add_edge(v1, v2, e):\n",
        "    global graph\n",
        "    global vertices_no\n",
        "    global vertices\n",
        "    # Check if vertex v1 is a valid vertex\n",
        "    if v1 not in vertices:\n",
        "        print(\"Vertex \", v1, \" does not exist.\")\n",
        "    # Check if vertex v1 is a valid vertex\n",
        "    elif v2 not in vertices:\n",
        "        print(\"Vertex \", v2, \" does not exist.\")\n",
        "    # Since this code is not restricted to a directed or\n",
        "    # an undirected graph, an edge between v1 v2 does not\n",
        "    # imply that an edge exists between v2 and v1\n",
        "    else:\n",
        "        index1 = vertices.index(v1)\n",
        "        index2 = vertices.index(v2)\n",
        "        graph[index1][index2] = e\n",
        "\n",
        "# Print the graph\n",
        "def print_graph():\n",
        "  global graph\n",
        "  global vertices_no\n",
        "  for i in range(vertices_no):\n",
        "    for j in range(vertices_no):\n",
        "      if graph[i][j] != 0:\n",
        "        print(vertices[i], \" -> \", vertices[j],\n",
        "              \" edge weight: \", graph[i][j])"
      ]
    },
    {
      "cell_type": "code",
      "execution_count": 105,
      "metadata": {
        "id": "912w9tR0wFRh"
      },
      "outputs": [],
      "source": [
        "# stores the vertices in the graph\n",
        "vertices = []\n",
        "# stores the number of vertices in the graph\n",
        "vertices_no = 0\n",
        "graph = []"
      ]
    },
    {
      "cell_type": "markdown",
      "metadata": {
        "id": "lzkib3wYwFRh"
      },
      "source": [
        "<img src=\"https://github.com/robitussin/CCALCOMP_EXERCISES/blob/main/images/directed%20graph2.png?raw=true\"/>"
      ]
    },
    {
      "cell_type": "markdown",
      "metadata": {
        "id": "Qfh-2gbPwFRi"
      },
      "source": [
        "1. Print the edges and vertices of the graph in set representation. (`25 points`)"
      ]
    },
    {
      "cell_type": "code",
      "execution_count": 106,
      "metadata": {
        "id": "FSymqoxmwFRi",
        "colab": {
          "base_uri": "https://localhost:8080/"
        },
        "outputId": "27e01d5b-fbbc-4f27-8c46-83627b7e6bde"
      },
      "outputs": [
        {
          "output_type": "stream",
          "name": "stdout",
          "text": [
            "Edges:  {('A', 'D', 60), ('C', 'D', 32), ('C', 'B', 20), ('B', 'A', 10), ('E', 'A', 7), ('A', 'C', 12)}\n",
            "Vertices:  {'D', 'E', 'C', 'B', 'A'}\n"
          ]
        }
      ],
      "source": [
        "# stores the vertices in the graph\n",
        "vertices = []\n",
        "# stores the number of vertices in the graph\n",
        "vertices_no = 0\n",
        "graph = []\n",
        "\n",
        "add_vertex('A')\n",
        "add_vertex('B')\n",
        "add_vertex('C')\n",
        "add_vertex('D')\n",
        "add_vertex('E')\n",
        "\n",
        "add_edge('A','C', 12)\n",
        "add_edge('A','D', 60)\n",
        "add_edge('B', 'A', 10)\n",
        "add_edge('C', 'B', 20)\n",
        "add_edge('C', 'D', 32)\n",
        "add_edge('E', 'A', 7)\n",
        "\n",
        "edge_set = set()\n",
        "for i in range(vertices_no):\n",
        "    for j in range(vertices_no):\n",
        "        if graph[i][j] != 0:\n",
        "            edge_set.add((vertices[i], vertices[j], graph[i][j]))\n",
        "\n",
        "print(\"Edges: \",edge_set)\n",
        "print(\"Vertices: \",set(vertices))"
      ]
    },
    {
      "cell_type": "markdown",
      "metadata": {
        "id": "NHt6QEFzwFRi"
      },
      "source": [
        "2. Implement the weighted graph in python code. Use the print_graph() function. (`25 points`)"
      ]
    },
    {
      "cell_type": "code",
      "execution_count": 108,
      "metadata": {
        "id": "fcYP9VF9wFRj",
        "colab": {
          "base_uri": "https://localhost:8080/"
        },
        "outputId": "7bbe39dc-ffe0-432d-f794-e8d787416927"
      },
      "outputs": [
        {
          "output_type": "stream",
          "name": "stdout",
          "text": [
            "A  ->  C  edge weight:  12\n",
            "A  ->  D  edge weight:  60\n",
            "B  ->  A  edge weight:  10\n",
            "C  ->  B  edge weight:  20\n",
            "C  ->  D  edge weight:  32\n",
            "E  ->  A  edge weight:  7\n",
            "\n",
            "Internal representation:  [[0, 0, 12, 60, 0], [10, 0, 0, 0, 0], [0, 20, 0, 32, 0], [0, 0, 0, 0, 0], [7, 0, 0, 0, 0]]\n"
          ]
        }
      ],
      "source": [
        "# stores the vertices in the graph\n",
        "vertices = []\n",
        "# stores the number of vertices in the graph\n",
        "vertices_no = 0\n",
        "graph = []\n",
        "\n",
        "add_vertex('A')\n",
        "add_vertex('B')\n",
        "add_vertex('C')\n",
        "add_vertex('D')\n",
        "add_vertex('E')\n",
        "\n",
        "add_edge('A','C', 12)\n",
        "add_edge('A','D', 60)\n",
        "add_edge('B', 'A', 10)\n",
        "add_edge('C', 'B', 20)\n",
        "add_edge('C', 'D', 32)\n",
        "add_edge('E', 'A', 7)\n",
        "\n",
        "print_graph()\n",
        "print(\"\\nInternal representation: \", graph)"
      ]
    },
    {
      "cell_type": "markdown",
      "metadata": {
        "id": "kD-6afNTwFRj"
      },
      "source": [
        "3. You decided to go on a trip around the philippines. Being a computer scientist, you wanted to find the optimal route that would cost the least amount of money to travel all four cities. Find the route and print the total cost of the most optimal route. (`50 points`)"
      ]
    },
    {
      "cell_type": "markdown",
      "metadata": {
        "id": "cBHIHSIewFRj"
      },
      "source": [
        "<img src=\"https://github.com/robitussin/CCALCOMP_EXERCISES/blob/main/images/trip.png?raw=true\" width=\"500\" height=\"600\"/>"
      ]
    },
    {
      "cell_type": "code",
      "execution_count": null,
      "metadata": {
        "id": "yNwmvIXnwFRj",
        "colab": {
          "base_uri": "https://localhost:8080/"
        },
        "outputId": "02298384-677c-4d3e-8056-33c6f2f9d84f"
      },
      "outputs": [
        {
          "output_type": "stream",
          "name": "stdout",
          "text": [
            "Manila  ->  Puerto Princesa  edge weight:  8000\n",
            "Manila  ->  Tacloban  edge weight:  1000\n",
            "Manila  ->  Davao  edge weight:  5000\n",
            "Puerto Princesa  ->  Manila  edge weight:  8000\n",
            "Puerto Princesa  ->  Tacloban  edge weight:  1500\n",
            "Puerto Princesa  ->  Davao  edge weight:  4000\n",
            "Tacloban  ->  Manila  edge weight:  1000\n",
            "Tacloban  ->  Puerto Princesa  edge weight:  1500\n",
            "Tacloban  ->  Davao  edge weight:  2000\n",
            "Davao  ->  Manila  edge weight:  5000\n",
            "Davao  ->  Puerto Princesa  edge weight:  4000\n",
            "Davao  ->  Tacloban  edge weight:  2000\n",
            "\n",
            "Internal Representation:  [[0, 8000, 1000, 5000], [8000, 0, 1500, 4000], [1000, 1500, 0, 2000], [5000, 4000, 2000, 0]]\n",
            "\n",
            "Optimal Route: Manila -> Tacloban -> Puerto Princesa -> Davao -> Manila\n",
            "Total Cost: ₱ 11500\n"
          ]
        }
      ],
      "source": [
        "vertices = []\n",
        "vertices_no = 0\n",
        "graph = []\n",
        "\n",
        "add_vertex('Manila')\n",
        "add_vertex('Puerto Princesa')\n",
        "add_vertex('Tacloban')\n",
        "add_vertex('Davao')\n",
        "\n",
        "add_edge('Manila','Puerto Princesa', 8000)\n",
        "add_edge('Manila','Davao', 5000)\n",
        "add_edge('Manila','Tacloban', 1000)\n",
        "\n",
        "add_edge('Tacloban', 'Manila', 1000)\n",
        "add_edge('Tacloban', 'Puerto Princesa', 1500)\n",
        "add_edge('Tacloban', 'Davao', 2000)\n",
        "\n",
        "add_edge('Puerto Princesa','Manila', 8000)\n",
        "add_edge('Puerto Princesa','Tacloban', 1500)\n",
        "add_edge('Puerto Princesa','Davao', 4000)\n",
        "\n",
        "add_edge('Davao','Puerto Princesa', 4000)\n",
        "add_edge('Davao','Manila', 5000)\n",
        "add_edge('Davao','Tacloban', 2000)\n",
        "\n",
        "print_graph()\n",
        "print(\"\\nInternal Representation: \", graph)\n",
        "\n",
        "print(\"\\nOptimal Route: Manila -> Tacloban -> Puerto Princesa -> Davao -> Manila\")\n",
        "print(\"Total Cost: ₱\", 1000 + 1500 + 4000 + 5000)"
      ]
    }
  ],
  "metadata": {
    "kernelspec": {
      "display_name": "base",
      "language": "python",
      "name": "python3"
    },
    "language_info": {
      "codemirror_mode": {
        "name": "ipython",
        "version": 3
      },
      "file_extension": ".py",
      "mimetype": "text/x-python",
      "name": "python",
      "nbconvert_exporter": "python",
      "pygments_lexer": "ipython3",
      "version": "3.9.6"
    },
    "colab": {
      "provenance": []
    }
  },
  "nbformat": 4,
  "nbformat_minor": 0
}