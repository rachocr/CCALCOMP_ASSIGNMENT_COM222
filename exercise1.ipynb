{
  "cells": [
    {
      "cell_type": "markdown",
      "metadata": {
        "id": "view-in-github",
        "colab_type": "text"
      },
      "source": [
        "<a href=\"https://colab.research.google.com/github/rachocr/CCALCOMP_EXERCISES_COM222/blob/main/Racho_Exercise1.ipynb\" target=\"_parent\"><img src=\"https://colab.research.google.com/assets/colab-badge.svg\" alt=\"Open In Colab\"/></a>"
      ]
    },
    {
      "cell_type": "markdown",
      "metadata": {
        "id": "3-prKGbfwFRd"
      },
      "source": [
        "# Exercise 1"
      ]
    },
    {
      "cell_type": "markdown",
      "metadata": {
        "id": "kBW-_z9HwFRf"
      },
      "source": [
        "Please follow the instructions in each number. Do not remove or modify the pre-defined code!"
      ]
    },
    {
      "cell_type": "code",
      "execution_count": 1,
      "metadata": {
        "id": "ABAdD_ngwFRg"
      },
      "outputs": [],
      "source": [
        "# Add a vertex to the set of vertices and the graph\n",
        "def add_vertex(v):\n",
        "  global graph\n",
        "  global vertices_no\n",
        "  global vertices\n",
        "  if v in vertices:\n",
        "    print(\"Vertex \", v, \" already exists\")\n",
        "  else:\n",
        "    vertices_no = vertices_no + 1\n",
        "    vertices.append(v)\n",
        "    if vertices_no > 1:\n",
        "        for vertex in graph:\n",
        "            vertex.append(0)\n",
        "    temp = []\n",
        "    for i in range(vertices_no):\n",
        "        temp.append(0)\n",
        "    graph.append(temp)\n",
        "\n",
        "# Add an edge between vertex v1 and v2 with edge weight e\n",
        "def add_edge(v1, v2, e):\n",
        "    global graph\n",
        "    global vertices_no\n",
        "    global vertices\n",
        "    # Check if vertex v1 is a valid vertex\n",
        "    if v1 not in vertices:\n",
        "        print(\"Vertex \", v1, \" does not exist.\")\n",
        "    # Check if vertex v1 is a valid vertex\n",
        "    elif v2 not in vertices:\n",
        "        print(\"Vertex \", v2, \" does not exist.\")\n",
        "    # Since this code is not restricted to a directed or\n",
        "    # an undirected graph, an edge between v1 v2 does not\n",
        "    # imply that an edge exists between v2 and v1\n",
        "    else:\n",
        "        index1 = vertices.index(v1)\n",
        "        index2 = vertices.index(v2)\n",
        "        graph[index1][index2] = e\n",
        "\n",
        "# Print the graph\n",
        "def print_graph():\n",
        "  global graph\n",
        "  global vertices_no\n",
        "  for i in range(vertices_no):\n",
        "    for j in range(vertices_no):\n",
        "      if graph[i][j] != 0:\n",
        "        print(vertices[i], \" -> \", vertices[j],\n",
        "              \" edge weight: \", graph[i][j])"
      ]
    },
    {
      "cell_type": "code",
      "execution_count": 2,
      "metadata": {
        "id": "912w9tR0wFRh"
      },
      "outputs": [],
      "source": [
        "# stores the vertices in the graph\n",
        "vertices = []\n",
        "# stores the number of vertices in the graph\n",
        "vertices_no = 0\n",
        "graph = []"
      ]
    },
    {
      "cell_type": "markdown",
      "metadata": {
        "id": "lzkib3wYwFRh"
      },
      "source": [
        "<img src=\"https://github.com/robitussin/CCALCOMP_EXERCISES/blob/main/images/directed%20graph2.png?raw=true\"/>"
      ]
    },
    {
      "cell_type": "markdown",
      "metadata": {
        "id": "Qfh-2gbPwFRi"
      },
      "source": [
        "1. Print the edges and vertices of the graph in set representation. (`25 points`)"
      ]
    },
    {
      "cell_type": "code",
      "source": [
        "# stores the vertices in the graph\n",
        "vertices = []\n",
        "# stores the number of vertices in the graph\n",
        "vertices_no = 0\n",
        "graph = []\n",
        "\n",
        "add_vertex('A')\n",
        "add_vertex('B')\n",
        "add_vertex('C')\n",
        "add_vertex('D')\n",
        "add_vertex('E')\n",
        "\n",
        "add_edge('A','C', 12)\n",
        "add_edge('A','D', 60)\n",
        "add_edge('B', 'A', 10)\n",
        "add_edge('C', 'B', 20)\n",
        "add_edge('C', 'D', 32)\n",
        "add_edge('E', 'A', 7)\n",
        "\n",
        "edge_set = set()\n",
        "for i in range(vertices_no):\n",
        "    for j in range(vertices_no):\n",
        "        if graph[i][j] != 0:\n",
        "            edge_set.add((vertices[i], vertices[j], graph[i][j]))\n",
        "\n",
        "print(\"Set Representation\\n-\")\n",
        "print(\"Edges: \",edge_set)\n",
        "print(\"Vertices: \",set(vertices))\n",
        "\n",
        "print(\"\\nSorted Set\\n-\")\n",
        "print(\"Vertices: \", sorted(set(vertices)))\n",
        "print(\"Edges: \", sorted(set(edge_set)))"
      ],
      "metadata": {
        "id": "l1vPBlpteksj",
        "outputId": "e3953251-ca9c-48e3-8f7e-5a9f06761876",
        "colab": {
          "base_uri": "https://localhost:8080/"
        }
      },
      "execution_count": 3,
      "outputs": [
        {
          "output_type": "stream",
          "name": "stdout",
          "text": [
            "Set Representation\n",
            "-\n",
            "Edges:  {('E', 'A', 7), ('C', 'B', 20), ('A', 'D', 60), ('B', 'A', 10), ('A', 'C', 12), ('C', 'D', 32)}\n",
            "Vertices:  {'C', 'A', 'E', 'B', 'D'}\n",
            "\n",
            "Sorted Set\n",
            "-\n",
            "Vertices:  ['A', 'B', 'C', 'D', 'E']\n",
            "Edges:  [('A', 'C', 12), ('A', 'D', 60), ('B', 'A', 10), ('C', 'B', 20), ('C', 'D', 32), ('E', 'A', 7)]\n"
          ]
        }
      ]
    },
    {
      "cell_type": "markdown",
      "metadata": {
        "id": "NHt6QEFzwFRi"
      },
      "source": [
        "2. Implement the weighted graph in python code. Use the print_graph() function. (`25 points`)"
      ]
    },
    {
      "cell_type": "code",
      "execution_count": 4,
      "metadata": {
        "id": "fcYP9VF9wFRj",
        "colab": {
          "base_uri": "https://localhost:8080/"
        },
        "outputId": "98b77f0b-fed7-4be6-d186-771e33d1c103"
      },
      "outputs": [
        {
          "output_type": "stream",
          "name": "stdout",
          "text": [
            "A  ->  C  edge weight:  12\n",
            "A  ->  D  edge weight:  60\n",
            "B  ->  A  edge weight:  10\n",
            "C  ->  B  edge weight:  20\n",
            "C  ->  D  edge weight:  32\n",
            "E  ->  A  edge weight:  7\n",
            "\n",
            "Internal representation:  [[0, 0, 12, 60, 0], [10, 0, 0, 0, 0], [0, 20, 0, 32, 0], [0, 0, 0, 0, 0], [7, 0, 0, 0, 0]]\n"
          ]
        }
      ],
      "source": [
        "# stores the vertices in the graph\n",
        "vertices = []\n",
        "# stores the number of vertices in the graph\n",
        "vertices_no = 0\n",
        "graph = []\n",
        "\n",
        "add_vertex('A')\n",
        "add_vertex('B')\n",
        "add_vertex('C')\n",
        "add_vertex('D')\n",
        "add_vertex('E')\n",
        "\n",
        "add_edge('A','C', 12)\n",
        "add_edge('A','D', 60)\n",
        "add_edge('B', 'A', 10)\n",
        "add_edge('C', 'B', 20)\n",
        "add_edge('C', 'D', 32)\n",
        "add_edge('E', 'A', 7)\n",
        "\n",
        "print_graph()\n",
        "print(\"\\nInternal representation: \", graph)"
      ]
    },
    {
      "cell_type": "markdown",
      "metadata": {
        "id": "kD-6afNTwFRj"
      },
      "source": [
        "3. You decided to go on a trip around the philippines. Being a computer scientist, you wanted to find the optimal route that would cost the least amount of money to travel all four cities. Find the route and print the total cost of the most optimal route. (`50 points`)"
      ]
    },
    {
      "cell_type": "markdown",
      "metadata": {
        "id": "cBHIHSIewFRj"
      },
      "source": [
        "<img src=\"https://github.com/robitussin/CCALCOMP_EXERCISES/blob/main/images/trip.png?raw=true\" width=\"500\" height=\"600\"/>"
      ]
    },
    {
      "cell_type": "code",
      "execution_count": 5,
      "metadata": {
        "id": "yNwmvIXnwFRj",
        "colab": {
          "base_uri": "https://localhost:8080/"
        },
        "outputId": "71133451-cc1d-4ac5-e036-4078637bdb80"
      },
      "outputs": [
        {
          "output_type": "stream",
          "name": "stdout",
          "text": [
            "Manila  ->  Puerto Princesa  edge weight:  8000\n",
            "Manila  ->  Tacloban  edge weight:  1000\n",
            "Manila  ->  Davao  edge weight:  5000\n",
            "Puerto Princesa  ->  Manila  edge weight:  8000\n",
            "Puerto Princesa  ->  Tacloban  edge weight:  1500\n",
            "Puerto Princesa  ->  Davao  edge weight:  4000\n",
            "Tacloban  ->  Manila  edge weight:  1000\n",
            "Tacloban  ->  Puerto Princesa  edge weight:  1500\n",
            "Tacloban  ->  Davao  edge weight:  2000\n",
            "Davao  ->  Manila  edge weight:  5000\n",
            "Davao  ->  Puerto Princesa  edge weight:  4000\n",
            "Davao  ->  Tacloban  edge weight:  2000\n",
            "\n",
            "Internal Representation:  [[0, 8000, 1000, 5000], [8000, 0, 1500, 4000], [1000, 1500, 0, 2000], [5000, 4000, 2000, 0]]\n",
            "\n",
            "Optimal Route: Manila -> Tacloban -> Puerto Princesa -> Davao -> Manila\n",
            "Total Cost: ₱ 11500\n"
          ]
        }
      ],
      "source": [
        "# Hard Coded\n",
        "\n",
        "vertices = []\n",
        "vertices_no = 0\n",
        "graph = []\n",
        "\n",
        "add_vertex('Manila')\n",
        "add_vertex('Puerto Princesa')\n",
        "add_vertex('Tacloban')\n",
        "add_vertex('Davao')\n",
        "\n",
        "add_edge('Manila','Puerto Princesa', 8000)\n",
        "add_edge('Manila','Davao', 5000)\n",
        "add_edge('Manila','Tacloban', 1000)\n",
        "\n",
        "add_edge('Tacloban', 'Manila', 1000)\n",
        "add_edge('Tacloban', 'Puerto Princesa', 1500)\n",
        "add_edge('Tacloban', 'Davao', 2000)\n",
        "\n",
        "add_edge('Puerto Princesa','Manila', 8000)\n",
        "add_edge('Puerto Princesa','Tacloban', 1500)\n",
        "add_edge('Puerto Princesa','Davao', 4000)\n",
        "\n",
        "add_edge('Davao','Puerto Princesa', 4000)\n",
        "add_edge('Davao','Manila', 5000)\n",
        "add_edge('Davao','Tacloban', 2000)\n",
        "\n",
        "print_graph()\n",
        "print(\"\\nInternal Representation: \", graph)\n",
        "\n",
        "print(\"\\nOptimal Route: Manila -> Tacloban -> Puerto Princesa -> Davao -> Manila\")\n",
        "print(\"Total Cost: ₱\", 1000 + 1500 + 4000 + 5000)"
      ]
    },
    {
      "cell_type": "code",
      "source": [
        "# Another way to solve the Travelling Salesman Problem\n",
        "\n",
        "def tsp_dfs(graph, v, currPos, n, count, cost, path):\n",
        "    global answer, answer_path\n",
        "    if (count == n and graph[currPos][0]):\n",
        "        if cost + graph[currPos][0] < answer:\n",
        "            answer = cost + graph[currPos][0]\n",
        "            answer_path = path + [currPos, 0]\n",
        "        return\n",
        "\n",
        "    for i in range(n):\n",
        "        if (v[i] == False and graph[currPos][i]):\n",
        "            v[i] = True\n",
        "            tsp_dfs(graph, v, i, n, count + 1, cost + graph[currPos][i], path + [currPos])\n",
        "            v[i] = False\n",
        "\n",
        "# stores the vertices in the graph\n",
        "vertices = []\n",
        "# stores the number of vertices in the graph\n",
        "vertices_no = 0\n",
        "graph = []\n",
        "\n",
        "add_vertex('Manila')\n",
        "add_vertex('Puerto Princesa')\n",
        "add_vertex('Tacloban')\n",
        "add_vertex('Davao')\n",
        "\n",
        "add_edge('Manila','Puerto Princesa', 8000)\n",
        "add_edge('Manila','Davao', 5000)\n",
        "add_edge('Manila','Tacloban', 1000)\n",
        "\n",
        "add_edge('Tacloban', 'Manila', 1000)\n",
        "add_edge('Tacloban', 'Puerto Princesa', 1500)\n",
        "add_edge('Tacloban', 'Davao', 2000)\n",
        "\n",
        "add_edge('Puerto Princesa','Manila', 8000)\n",
        "add_edge('Puerto Princesa','Tacloban', 1500)\n",
        "add_edge('Puerto Princesa','Davao', 4000)\n",
        "\n",
        "add_edge('Davao','Puerto Princesa', 4000)\n",
        "add_edge('Davao','Manila', 5000)\n",
        "add_edge('Davao','Tacloban', 2000)\n",
        "\n",
        "\n",
        "v = [False for i in range(vertices_no)]\n",
        "v[0] = True\n",
        "\n",
        "answer = float('inf')\n",
        "answer_path = []\n",
        "\n",
        "tsp_dfs(graph, v, 0, vertices_no, 1, 0, [])\n",
        "\n",
        "print_graph()\n",
        "print(\"\\nInternal Representation: \", graph)\n",
        "\n",
        "print(\"\\nOptimal Route: \", \" -> \".join(vertices[i] for i in answer_path))\n",
        "print(\"Total Cost: ₱\", answer)"
      ],
      "metadata": {
        "id": "42_iVmoxhHru",
        "outputId": "5d2903b3-c980-4834-a7ee-cac0bf437309",
        "colab": {
          "base_uri": "https://localhost:8080/"
        }
      },
      "execution_count": 6,
      "outputs": [
        {
          "output_type": "stream",
          "name": "stdout",
          "text": [
            "Manila  ->  Puerto Princesa  edge weight:  8000\n",
            "Manila  ->  Tacloban  edge weight:  1000\n",
            "Manila  ->  Davao  edge weight:  5000\n",
            "Puerto Princesa  ->  Manila  edge weight:  8000\n",
            "Puerto Princesa  ->  Tacloban  edge weight:  1500\n",
            "Puerto Princesa  ->  Davao  edge weight:  4000\n",
            "Tacloban  ->  Manila  edge weight:  1000\n",
            "Tacloban  ->  Puerto Princesa  edge weight:  1500\n",
            "Tacloban  ->  Davao  edge weight:  2000\n",
            "Davao  ->  Manila  edge weight:  5000\n",
            "Davao  ->  Puerto Princesa  edge weight:  4000\n",
            "Davao  ->  Tacloban  edge weight:  2000\n",
            "\n",
            "Internal Representation:  [[0, 8000, 1000, 5000], [8000, 0, 1500, 4000], [1000, 1500, 0, 2000], [5000, 4000, 2000, 0]]\n",
            "\n",
            "Optimal Route:  Manila -> Tacloban -> Puerto Princesa -> Davao -> Manila\n",
            "Total Cost: ₱ 11500\n"
          ]
        }
      ]
    }
  ],
  "metadata": {
    "kernelspec": {
      "display_name": "base",
      "language": "python",
      "name": "python3"
    },
    "language_info": {
      "codemirror_mode": {
        "name": "ipython",
        "version": 3
      },
      "file_extension": ".py",
      "mimetype": "text/x-python",
      "name": "python",
      "nbconvert_exporter": "python",
      "pygments_lexer": "ipython3",
      "version": "3.9.6"
    },
    "colab": {
      "provenance": [],
      "include_colab_link": true
    }
  },
  "nbformat": 4,
  "nbformat_minor": 0
}
