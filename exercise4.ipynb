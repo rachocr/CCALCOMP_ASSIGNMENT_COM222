{
  "cells": [
    {
      "cell_type": "markdown",
      "metadata": {
        "id": "cPRRjBOhHHMh"
      },
      "source": [
        "# Exercise 4\n",
        "\n",
        "Please follow the instructions in each number."
      ]
    },
    {
      "cell_type": "markdown",
      "metadata": {
        "id": "zvDTNWRFHHMk"
      },
      "source": [
        "### Activity Selection Problem\n",
        "\n",
        "Given a set of activities, along with the starting and finishing time of each activity, find the maximum number of activities performed by a single person assuming that a person can only work on a single activity at a time.\n",
        "\n",
        "For example,\n",
        "\n",
        "Input: Following set of activities (1, 4), (3, 5), (0, 6), (5, 7), (3, 8), (5, 9), (6, 10), (8, 11), (8, 12), (2, 13), (12, 14)  \n",
        "\n",
        "Output: (1, 4), (5, 7), (8, 11), (12, 14)"
      ]
    },
    {
      "cell_type": "markdown",
      "metadata": {
        "id": "ff7w7YLGHHMl"
      },
      "source": [
        "## Tasks"
      ]
    },
    {
      "cell_type": "markdown",
      "metadata": {
        "id": "0QLHdoNSHHMl"
      },
      "source": [
        "1. Write a program using a recursive greedy approach to get the maximum number of activities (`50 points`)"
      ]
    },
    {
      "cell_type": "code",
      "execution_count": 5,
      "metadata": {
        "vscode": {
          "languageId": "plaintext"
        },
        "id": "Xe02cHvAHHMl",
        "colab": {
          "base_uri": "https://localhost:8080/"
        },
        "outputId": "025ed952-fb28-4a82-e467-44f60c9bb331"
      },
      "outputs": [
        {
          "output_type": "stream",
          "name": "stdout",
          "text": [
            "Input: Following set of activities (1, 4), (3, 5), (0, 6), (5, 7), (3, 8), (5, 9), (6, 10), (8, 11), (8, 12), (2, 13), (12, 14)\n",
            "Output: (1, 4), (5, 7), (8, 11), (12, 14)\n"
          ]
        }
      ],
      "source": [
        "def recursive_activity_selector(activities, selected_activities=None, current_index=0):\n",
        "    if selected_activities is None:\n",
        "        selected_activities = []\n",
        "\n",
        "    if current_index >= len(activities):\n",
        "        return selected_activities\n",
        "\n",
        "    current_activity = activities[current_index]\n",
        "\n",
        "    if not selected_activities or selected_activities[-1][1] <= current_activity[0]:\n",
        "        selected_activities.append(current_activity)\n",
        "        return recursive_activity_selector(activities, selected_activities, current_index + 1)\n",
        "    else:\n",
        "        return recursive_activity_selector(activities, selected_activities, current_index + 1)\n",
        "\n",
        "def activity_selection(activities):\n",
        "    sorted_activities = sorted(activities, key=lambda x: x[1])\n",
        "    return recursive_activity_selector(sorted_activities)\n",
        "\n",
        "\n",
        "activities = [(1, 4), (3, 5), (0, 6), (5, 7), (3, 8), (5, 9), (6, 10), (8, 11), (8, 12), (2, 13), (12, 14)]\n",
        "\n",
        "selected_activities = activity_selection(activities)\n",
        "\n",
        "formatted_output_activities= ', '.join(map(str, activities))\n",
        "formatted_output_selected = ', '.join(map(str, selected_activities))\n",
        "\n",
        "print(\"Input: Following set of activities\", formatted_output_activities)\n",
        "print(\"Output:\", formatted_output_selected)"
      ]
    },
    {
      "cell_type": "markdown",
      "metadata": {
        "id": "eZe27u4LHHMn"
      },
      "source": [
        "2. Write a program using a iterative greedy approach to get the maximun number of activities (`50 points`)"
      ]
    },
    {
      "cell_type": "code",
      "execution_count": 6,
      "metadata": {
        "vscode": {
          "languageId": "plaintext"
        },
        "id": "UrSZyQwEHHMn",
        "colab": {
          "base_uri": "https://localhost:8080/"
        },
        "outputId": "10d6ab5c-ba9b-485a-dd53-a146cf5f4bd5"
      },
      "outputs": [
        {
          "output_type": "stream",
          "name": "stdout",
          "text": [
            "Input: Following set of activities (1, 4), (3, 5), (0, 6), (5, 7), (3, 8), (5, 9), (6, 10), (8, 11), (8, 12), (2, 13), (12, 14)\n",
            "Output: (1, 4), (5, 7), (8, 11), (12, 14)\n"
          ]
        }
      ],
      "source": [
        "def iterative_activity_selection(activities):\n",
        "    sorted_activities = sorted(activities, key=lambda x: x[1])\n",
        "\n",
        "    selected_activities = [sorted_activities[0]]\n",
        "\n",
        "    for i in range(1, len(sorted_activities)):\n",
        "        if sorted_activities[i][0] >= selected_activities[-1][1]:\n",
        "            selected_activities.append(sorted_activities[i])\n",
        "\n",
        "    return selected_activities\n",
        "\n",
        "activities = [(1, 4), (3, 5), (0, 6), (5, 7), (3, 8), (5, 9), (6, 10), (8, 11), (8, 12), (2, 13), (12, 14)]\n",
        "selected_activities = iterative_activity_selection(activities)\n",
        "\n",
        "formatted_output_activities= ', '.join(map(str, activities))\n",
        "formatted_output_selected = ', '.join(map(str, selected_activities))\n",
        "\n",
        "print(\"Input: Following set of activities\", formatted_output_activities)\n",
        "print(\"Output:\", formatted_output_selected)\n"
      ]
    }
  ],
  "metadata": {
    "colab": {
      "provenance": []
    },
    "kernelspec": {
      "display_name": "base",
      "language": "python",
      "name": "python3"
    },
    "language_info": {
      "codemirror_mode": {
        "name": "ipython",
        "version": 3
      },
      "file_extension": ".py",
      "mimetype": "text/x-python",
      "name": "python",
      "nbconvert_exporter": "python",
      "pygments_lexer": "ipython3",
      "version": "3.9.6"
    }
  },
  "nbformat": 4,
  "nbformat_minor": 0
}